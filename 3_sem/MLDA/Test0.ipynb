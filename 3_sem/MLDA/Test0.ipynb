{
 "cells": [
  {
   "cell_type": "markdown",
   "id": "2d68eb48",
   "metadata": {},
   "source": [
    "# Привет!\n",
    "\n",
    "Перед началом прохождения убедитесь, что все настроено как надо. Следующая ячейка должна выполниться без ошибок:"
   ]
  },
  {
   "cell_type": "markdown",
   "id": "7d72ab54",
   "metadata": {},
   "source": [
    "После прохождения не забудьте **перезапустить ядро** (**restart the kernel**) (в панели меню выберите Kernel $\\rightarrow$ Restart) и затем **запуск всех ячеек** (**run all cells**) (в панели меню выберите Cell $\\rightarrow$ Run All).\n",
    "\n",
    "Убедитесь, что заменили все такие места \n",
    "```python\n",
    "# YOUR CODE HERE\n",
    "raise NotImplementedError()\n",
    "```\n",
    "и\n",
    "```\n",
    "\"YOUR ANSWER HERE\"\n",
    "```\n",
    "на свои решения и ответы.\n",
    "\n",
    "Если не установлены какие-то пакеты, то посмотрите нужные версии в ноутбуках по регрессии.\n",
    "\n",
    "Для прорешивания используйте среды с поддержкой формата Jupyter: [Google Colab](https://colab.research.google.com/), [Jupyter Notebook (Web)](https://jupyter.org/), [PyCharm](https://www.jetbrains.com/ru-ru/pycharm/), [DataSpell](https://www.jetbrains.com/ru-ru/dataspell/) или [VSCode](https://code.visualstudio.com/). Работа с этим форматом в обычном текстовом редакторе может сыграть злую шутку.\n",
    "\n",
    "Не забывайте о следующих особенностях:\n",
    "- 😉 Помимо указанных тестов после задания существуют и скрытые тесты, поэтому внимательнее читайте задание\n",
    "- 😎 Обязательно проверяйте выполнимость на тестах, для проверки перезапустите ядро и запустите все ячейки заново!\n",
    "- 😂 После скачивания ноутбуков достаточно заполнить места для ответов и отправить ноутбук обратно (сам ноутбук, ни в архиве, ни ссылкой на GitHub ни как-то еще принимать не будем, загружаете сам файл)\n",
    "- 😈 Не рекомендуем удалять исходные ячейки, так как из-за этого могут не начислиться баллы =(\n",
    "  - 👼 Если таки такое случилось, скачайте заново шаблон и перенесите в него свои решения\n",
    "- 😛 Свой код пишите только в ячейках для решений - любые дописывания в остальных ячейках (с текстом или тестами) могут не попасть в проверку (например, `import` вне ячейки для решения)\n"
   ]
  },
  {
   "cell_type": "markdown",
   "id": "7b5572f9",
   "metadata": {},
   "source": [
    "---"
   ]
  },
  {
   "cell_type": "markdown",
   "id": "eb9525d4",
   "metadata": {
    "deletable": false,
    "editable": false,
    "nbgrader": {
     "cell_type": "markdown",
     "checksum": "3a73c6187281ee5888ca01a9dfea4c33",
     "grade": false,
     "grade_id": "cell-d892cf552738b8b8",
     "locked": true,
     "schema_version": 3,
     "solution": false,
     "task": false
    }
   },
   "source": [
    "Это первая контрольная работа с некоторыми вопросами по теме numpy, pandas и python."
   ]
  },
  {
   "cell_type": "code",
   "execution_count": 168,
   "id": "b9261ee2",
   "metadata": {
    "deletable": false,
    "editable": false,
    "nbgrader": {
     "cell_type": "code",
     "checksum": "4ad4100b8fcc755d609010c0134bdede",
     "grade": false,
     "grade_id": "cell-7d71a45de0d5e0b5",
     "locked": true,
     "schema_version": 3,
     "solution": false,
     "task": false
    }
   },
   "outputs": [
    {
     "name": "stdout",
     "output_type": "stream",
     "text": [
      "numpy version: 1.26.4\n",
      "pandas version: 2.2.2\n"
     ]
    }
   ],
   "source": [
    "import numpy as np\n",
    "print(f\"numpy version: {np.__version__}\")\n",
    "import pandas as pd\n",
    "print(f\"pandas version: {pd.__version__}\")\n",
    "\n",
    "np.random.seed(42)"
   ]
  },
  {
   "cell_type": "markdown",
   "id": "1d7bb314",
   "metadata": {
    "deletable": false,
    "editable": false,
    "nbgrader": {
     "cell_type": "markdown",
     "checksum": "c395d1c7c005a4f1cdba32281b83410c",
     "grade": false,
     "grade_id": "cell-4809c9fae0e97422",
     "locked": true,
     "schema_version": 3,
     "solution": false,
     "task": false
    }
   },
   "source": [
    "### Задание 1 (1 балл)\n",
    "\n",
    "Напишите код для удаления букв в строке, которые повторяются больше 1 раза.\n",
    "\n",
    "Например, на вход подаётся строка `банан`, на выходе - `б`.\n",
    "\n",
    "> Функция должна игнорировать регистр букв, т.е. `А` и `a` - это дубликаты друг друга"
   ]
  },
  {
   "cell_type": "code",
   "execution_count": 169,
   "id": "c6f794d5",
   "metadata": {
    "deletable": false,
    "nbgrader": {
     "cell_type": "code",
     "checksum": "eabd983a7a1c6e8f9d6b09b88bc89f5e",
     "grade": false,
     "grade_id": "cell-69a75a6a9f247b59",
     "locked": false,
     "schema_version": 3,
     "solution": true,
     "task": false
    }
   },
   "outputs": [],
   "source": [
    "def filter_duplicated_letters(string: str) -> str:\n",
    "    string.lower()\n",
    "    return \"\".join([char for char in string if string.count(char) < 2])"
   ]
  },
  {
   "cell_type": "code",
   "execution_count": 170,
   "id": "f4744e24",
   "metadata": {
    "deletable": false,
    "editable": false,
    "nbgrader": {
     "cell_type": "code",
     "checksum": "a70f681b71e804bea521ef089cf8af93",
     "grade": true,
     "grade_id": "cell-6c2c7d17e93c9be4",
     "locked": true,
     "points": 1,
     "schema_version": 3,
     "solution": false,
     "task": false
    }
   },
   "outputs": [],
   "source": [
    "assert len(filter_duplicated_letters(\"Hello\")) == 3 \n",
    "assert filter_duplicated_letters(\"x\") == \"x\"\n",
    "assert filter_duplicated_letters(\"\") == \"\"\n"
   ]
  },
  {
   "cell_type": "markdown",
   "id": "016fbe09",
   "metadata": {
    "deletable": false,
    "editable": false,
    "nbgrader": {
     "cell_type": "markdown",
     "checksum": "e465beff9f0325848670e9e340df491e",
     "grade": false,
     "grade_id": "cell-0c29ebdeb5d4ceb5",
     "locked": true,
     "schema_version": 3,
     "solution": false,
     "task": false
    }
   },
   "source": [
    "### Задание 2 (2 балла)\n",
    "\n",
    "Найдите самое часто повторяющееся число в массиве и верните его, приведённое к нужному типу."
   ]
  },
  {
   "cell_type": "code",
   "execution_count": 171,
   "id": "a1bb6bef",
   "metadata": {
    "deletable": false,
    "nbgrader": {
     "cell_type": "code",
     "checksum": "d93e17b0ef2cf994ca74f376eaa3f0a3",
     "grade": false,
     "grade_id": "cell-db76e26eedba62d1",
     "locked": false,
     "schema_version": 3,
     "solution": true,
     "task": false
    }
   },
   "outputs": [],
   "source": [
    "def get_freq_value(arr: np.ndarray) -> float:\n",
    "    uniq, counts = np.unique(arr, return_counts=True)\n",
    "    return float(uniq[counts.argmax()])"
   ]
  },
  {
   "cell_type": "code",
   "execution_count": 172,
   "id": "a7da784b",
   "metadata": {
    "deletable": false,
    "editable": false,
    "nbgrader": {
     "cell_type": "code",
     "checksum": "152566c835766b61fdf26a5c32cc1503",
     "grade": true,
     "grade_id": "cell-6617d7118be7f720",
     "locked": true,
     "points": 2,
     "schema_version": 3,
     "solution": false,
     "task": false
    }
   },
   "outputs": [],
   "source": [
    "assert isinstance(get_freq_value(np.random.randint(0, 10, 10)), float)\n",
    "np.testing.assert_almost_equal(get_freq_value(np.array([1, 1])), 1.0)\n",
    "np.testing.assert_almost_equal(get_freq_value(np.array([1, 3, 2, 2])), 2.0)\n"
   ]
  },
  {
   "cell_type": "markdown",
   "id": "20a6694e",
   "metadata": {
    "deletable": false,
    "editable": false,
    "nbgrader": {
     "cell_type": "markdown",
     "checksum": "13e93374b2dfb76c20f9bf33090d2ed4",
     "grade": false,
     "grade_id": "cell-362ed7f98738aaec",
     "locked": true,
     "schema_version": 3,
     "solution": false,
     "task": false
    }
   },
   "source": [
    "### Задание 3 (2 балла)\n",
    "\n",
    "Выведите индексы уникальных значений из входного массива (матрицы), не учитывая строки/элементы с `np.nan`.\n",
    "\n",
    "Например, если на вход приходит `[1, 1, 2]`, то функция должна вернуть `[0, 2]`.\n",
    "\n",
    "> В случае, если на вход приходит матрица, то нужно вернуть индекс уникальной строки"
   ]
  },
  {
   "cell_type": "code",
   "execution_count": 173,
   "id": "da61be9b",
   "metadata": {
    "deletable": false,
    "nbgrader": {
     "cell_type": "code",
     "checksum": "9365118353fb4fd27f3851e15ef99103",
     "grade": false,
     "grade_id": "cell-a83f3275964bb308",
     "locked": false,
     "schema_version": 3,
     "solution": true,
     "task": false
    }
   },
   "outputs": [],
   "source": [
    "def get_unique_indices(matrix: np.ndarray) -> np.ndarray:\n",
    "    if matrix.ndim == 1:\n",
    "        matrix = matrix.reshape(-1, 1)\n",
    "    mask = ~np.isnan(matrix).any(axis=1)\n",
    "    _, idx = np.unique(matrix[mask], axis=0, return_index=True)\n",
    "    return np.arange(matrix.shape[0])[mask][idx]"
   ]
  },
  {
   "cell_type": "code",
   "execution_count": 174,
   "id": "844a6807",
   "metadata": {
    "deletable": false,
    "editable": false,
    "nbgrader": {
     "cell_type": "code",
     "checksum": "5dcfdb54514741172402a8bc356aed29",
     "grade": true,
     "grade_id": "cell-4d50a5c607725df3",
     "locked": true,
     "points": 2,
     "schema_version": 3,
     "solution": false,
     "task": false
    }
   },
   "outputs": [],
   "source": [
    "np.testing.assert_allclose(get_unique_indices(np.array([[1]])), [0])\n",
    "np.testing.assert_allclose(get_unique_indices(np.array([[1], [1], [1]])), [0])\n",
    "np.testing.assert_allclose(get_unique_indices(np.array([[1, 2, 3], [1, 2, 3], [2, 1, np.nan]])), [0])\n"
   ]
  },
  {
   "cell_type": "markdown",
   "id": "3c0e849d",
   "metadata": {
    "deletable": false,
    "editable": false,
    "nbgrader": {
     "cell_type": "markdown",
     "checksum": "96d588fb2c51c11a2500b56d73540ab4",
     "grade": false,
     "grade_id": "cell-d0f320211c1ccbcd",
     "locked": true,
     "schema_version": 3,
     "solution": false,
     "task": false
    }
   },
   "source": [
    "### Задание 4 (2 балла)\n",
    "\n",
    "Напишите функцию, которая считает сумму элементов, лежащих выше главной диагонали. \n",
    "\n",
    "> Если в элементах есть `NaN`, заменить их на `0`"
   ]
  },
  {
   "cell_type": "code",
   "execution_count": 175,
   "id": "acd12286",
   "metadata": {
    "deletable": false,
    "nbgrader": {
     "cell_type": "code",
     "checksum": "a90b7f1fd5d0c66b79342130c201861d",
     "grade": false,
     "grade_id": "cell-d4aba3080a3cd06f",
     "locked": false,
     "schema_version": 3,
     "solution": true,
     "task": false
    }
   },
   "outputs": [],
   "source": [
    "def get_triu_sum(arr: np.ndarray) -> np.ndarray:\n",
    "    arr = np.nan_to_num(arr, nan=0)\n",
    "    mask = np.triu(np.ones_like(arr, dtype=bool))\n",
    "    return np.sum(arr[mask])"
   ]
  },
  {
   "cell_type": "code",
   "execution_count": 176,
   "id": "8a3b6696",
   "metadata": {
    "deletable": false,
    "editable": false,
    "nbgrader": {
     "cell_type": "code",
     "checksum": "5988ecf03240b4067dd24e1bd24cc7a7",
     "grade": true,
     "grade_id": "cell-922af51c5bbde513",
     "locked": true,
     "points": 2,
     "schema_version": 3,
     "solution": false,
     "task": false
    }
   },
   "outputs": [],
   "source": [
    "np.testing.assert_allclose(get_triu_sum(np.array([[2, 1], [4, 3]])), 6)\n",
    "np.testing.assert_allclose(get_triu_sum(np.zeros((8, 8))), 0)\n",
    "np.testing.assert_allclose(get_triu_sum(np.array([[2, 1], [3, np.nan]])), 3)\n"
   ]
  },
  {
   "cell_type": "markdown",
   "id": "77c2e97b",
   "metadata": {
    "deletable": false,
    "editable": false,
    "nbgrader": {
     "cell_type": "markdown",
     "checksum": "e14baba2452d0bf920f38ce6da87e377",
     "grade": false,
     "grade_id": "cell-6584d32b893c6288",
     "locked": true,
     "schema_version": 3,
     "solution": false,
     "task": false
    }
   },
   "source": [
    "### Задание 5 (1 балл)\n",
    "\n",
    "Напишите функцию, которая из словаря делает `pandas.Series`, где ключи словаря - это значения серии, а значения словаря - это индексы серии."
   ]
  },
  {
   "cell_type": "code",
   "execution_count": 177,
   "id": "47edbe17",
   "metadata": {
    "deletable": false,
    "nbgrader": {
     "cell_type": "code",
     "checksum": "9098019942a12fb21caf8861052fb4b1",
     "grade": false,
     "grade_id": "cell-fa84a84ced474d2f",
     "locked": false,
     "schema_version": 3,
     "solution": true,
     "task": false
    }
   },
   "outputs": [],
   "source": [
    "def get_series(data: dict) -> pd.Series:\n",
    "    return pd.Series(\n",
    "        index=data.values(),\n",
    "        data=data.keys(),\n",
    "    )"
   ]
  },
  {
   "cell_type": "code",
   "execution_count": 178,
   "id": "eb170b7e",
   "metadata": {
    "deletable": false,
    "editable": false,
    "nbgrader": {
     "cell_type": "code",
     "checksum": "a632b1866066a25d0c78500f81ffd4ae",
     "grade": true,
     "grade_id": "cell-110c1c0a2650e2fa",
     "locked": true,
     "points": 1,
     "schema_version": 3,
     "solution": false,
     "task": false
    }
   },
   "outputs": [],
   "source": [
    "assert isinstance(get_series({\"a\": 1}), pd.Series)\n",
    "np.testing.assert_allclose(get_series({\"a\": 1}).shape, 1)\n",
    "pd.testing.assert_index_equal(get_series({\"a\": 1,\"c\": 3}).index, pd.Index([1, 3]))\n"
   ]
  },
  {
   "cell_type": "markdown",
   "id": "76df7310",
   "metadata": {
    "deletable": false,
    "editable": false,
    "nbgrader": {
     "cell_type": "markdown",
     "checksum": "143ca5b42b248a533c7462565595f9d8",
     "grade": false,
     "grade_id": "cell-746d1fe6e22a28f5",
     "locked": true,
     "schema_version": 3,
     "solution": false,
     "task": false
    }
   },
   "source": [
    "### Задание 6 (3 балла)\n",
    "\n",
    "Разделите один столбец со строками на два столбца с названиями \"ID\" и \"City\". \n",
    "\n",
    "> ⚠️ Обратите внимание, что первая строка не является данными, а названия городов не должны содержать пробелы!"
   ]
  },
  {
   "cell_type": "code",
   "execution_count": 179,
   "id": "d236c3c1",
   "metadata": {
    "deletable": false,
    "nbgrader": {
     "cell_type": "code",
     "checksum": "e642238a10943c831fc3db3d45137751",
     "grade": false,
     "grade_id": "cell-58dc34e723ed3302",
     "locked": false,
     "schema_version": 3,
     "solution": true,
     "task": false
    }
   },
   "outputs": [],
   "source": [
    "def separate_columns(df: pd.DataFrame) -> pd.DataFrame:\n",
    "    df = df.iloc[1:].reset_index(drop=True)\n",
    "    new_columns = df[\"row\"].str.split(\",\", expand=True)\n",
    "    new_columns = new_columns.apply(lambda x: x.str.strip())\n",
    "    new_columns.columns = ['ID', 'City']\n",
    "    \n",
    "    return new_columns"
   ]
  },
  {
   "cell_type": "code",
   "execution_count": 180,
   "id": "1cb297fa",
   "metadata": {
    "deletable": false,
    "editable": false,
    "nbgrader": {
     "cell_type": "code",
     "checksum": "54eeba87e0204af0b6d134612eb534f6",
     "grade": true,
     "grade_id": "cell-ddbd80fb8adda273",
     "locked": true,
     "points": 3,
     "schema_version": 3,
     "solution": false,
     "task": false
    }
   },
   "outputs": [],
   "source": [
    "df_new = pd.DataFrame(\n",
    "    [\n",
    "        \"ID, City\",\n",
    "        \"47, Bangkok\",\n",
    "        \" 69,Paris\",\n",
    "        \"20, Unterhaching\",\n",
    "        \"23,Ekaterinburg \",\n",
    "        \", Kaliningrad\"\n",
    "    ],\n",
    "    columns=['row']\n",
    ")\n",
    "df_result = separate_columns(df_new)\n",
    "\n",
    "assert isinstance(df_result, pd.DataFrame)\n",
    "assert set(df_result.columns) == set([\"ID\", \"City\"])\n",
    "np.testing.assert_allclose(df_result.shape, (5, 2))\n",
    "pd.testing.assert_series_equal(df_result.iloc[1], pd.Series([\"69\", \"Paris\"]), check_index=False, check_names=False)\n"
   ]
  },
  {
   "cell_type": "markdown",
   "id": "fe55e292",
   "metadata": {
    "deletable": false,
    "editable": false,
    "nbgrader": {
     "cell_type": "markdown",
     "checksum": "14f78040d954c3bbb5a3c2b54e9d539e",
     "grade": false,
     "grade_id": "cell-4363dd5e3a0a281e",
     "locked": true,
     "schema_version": 3,
     "solution": false,
     "task": false
    }
   },
   "source": [
    "### Задание 7 (2 балла)\n",
    "\n",
    "Выберите только те строки, где значения в колонке `animal` не пропущены и округлите значения в колонке `age` до целочисленного значения."
   ]
  },
  {
   "cell_type": "code",
   "execution_count": 181,
   "id": "b7237945",
   "metadata": {
    "deletable": false,
    "nbgrader": {
     "cell_type": "code",
     "checksum": "eeddb4737100fdc8a9e10551ffc949a9",
     "grade": false,
     "grade_id": "cell-92c17c0ec05456d2",
     "locked": false,
     "schema_version": 3,
     "solution": true,
     "task": false
    }
   },
   "outputs": [],
   "source": [
    "def filter_missing_rows(df: pd.DataFrame) -> pd.DataFrame:\n",
    "    df_new = df.dropna(subset=['animal'])\n",
    "    df_new['age'] = df_new['age'].round()\n",
    "    return df_new"
   ]
  },
  {
   "cell_type": "code",
   "execution_count": 182,
   "id": "70992857",
   "metadata": {
    "deletable": false,
    "editable": false,
    "nbgrader": {
     "cell_type": "code",
     "checksum": "e31cd1d8929286a3c8e03ce1ad89eaf5",
     "grade": true,
     "grade_id": "cell-2c583ee44d239300",
     "locked": true,
     "points": 2,
     "schema_version": 3,
     "solution": false,
     "task": false
    }
   },
   "outputs": [
    {
     "name": "stderr",
     "output_type": "stream",
     "text": [
      "C:\\Users\\79159\\AppData\\Local\\Temp\\ipykernel_15652\\3670565710.py:3: SettingWithCopyWarning: \n",
      "A value is trying to be set on a copy of a slice from a DataFrame.\n",
      "Try using .loc[row_indexer,col_indexer] = value instead\n",
      "\n",
      "See the caveats in the documentation: https://pandas.pydata.org/pandas-docs/stable/user_guide/indexing.html#returning-a-view-versus-a-copy\n",
      "  df_new['age'] = df_new['age'].round()\n"
     ]
    }
   ],
   "source": [
    "df = pd.DataFrame(\n",
    "    zip(['cat', np.nan, 'cat', 'dog', 'cat', 'dog'], [1.95, 2, 3.3, 0.5, np.nan, 5]),\n",
    "    columns=[\"animal\", \"age\"]\n",
    ")\n",
    "df_result = filter_missing_rows(df)\n",
    "\n",
    "assert isinstance(df_result, pd.DataFrame)\n",
    "np.testing.assert_allclose(df_result.shape, (5, 2))\n",
    "np.testing.assert_allclose(df_result.iloc[1].age, [3])\n",
    "assert not (df_result.animal.isnull()).all()\n"
   ]
  },
  {
   "cell_type": "markdown",
   "id": "df9c560b",
   "metadata": {
    "deletable": false,
    "editable": false,
    "nbgrader": {
     "cell_type": "markdown",
     "checksum": "ae1dc7b1080b4a4572cedf5ced87dd89",
     "grade": false,
     "grade_id": "cell-fcfffa2402ff8f6c",
     "locked": true,
     "schema_version": 3,
     "solution": false,
     "task": false
    }
   },
   "source": [
    "### Задание 8 (2 балла)\n",
    "\n",
    "Напишите класс `StatComputer`, который имеет три метода:\n",
    "- метод `mean_cols()`, который возвращает среднее значение каждой колонки в виде массива значений;\n",
    "- метод `std_rows()`, который возвращает стандартное отклонение каждой строки в виде массива значений;\n",
    "- метод `sum_full()`, который возвращает сумму всех элементов массива в виде числа;\n",
    "- метод `variance()`, который возвращает значение дисперсии по всей матрице.\n",
    "\n",
    "Конструктор класса должен принимать массив чисел и возвращать результаты вычислений по каждому методу."
   ]
  },
  {
   "cell_type": "code",
   "execution_count": 183,
   "id": "d977ae6f",
   "metadata": {
    "deletable": false,
    "nbgrader": {
     "cell_type": "code",
     "checksum": "8577210d799c86e6d198467dd7222e16",
     "grade": false,
     "grade_id": "cell-955168e77c9346fa",
     "locked": false,
     "schema_version": 3,
     "solution": true,
     "task": false
    }
   },
   "outputs": [],
   "source": [
    "class StatComputer:\n",
    "    def __init__(self, data: np.array) -> None:\n",
    "        self.data = data\n",
    "    \n",
    "    def mean_cols(self):\n",
    "        return np.mean(self.data, axis=0)\n",
    "    \n",
    "    def std_rows(self):\n",
    "        return np.std(self.data, axis=1)\n",
    "    \n",
    "    def sum_full(self):\n",
    "        return np.sum(self.data)\n",
    "    \n",
    "    def variance(self):\n",
    "        return np.var(self.data)"
   ]
  },
  {
   "cell_type": "code",
   "execution_count": 184,
   "id": "ad362233",
   "metadata": {
    "deletable": false,
    "editable": false,
    "nbgrader": {
     "cell_type": "code",
     "checksum": "cfe4efab0e82c71c994039ed8d6baa2a",
     "grade": true,
     "grade_id": "cell-d52d4a43af9134f9",
     "locked": true,
     "points": 2,
     "schema_version": 3,
     "solution": false,
     "task": false
    }
   },
   "outputs": [],
   "source": [
    "data = np.array(\n",
    "    [\n",
    "        [8, 2, 6, 5, 5],\n",
    "        [0, 8, 5, 7, 0],\n",
    "        [6, 4, 3, 6, 3],\n",
    "        [1, 7, 10, 8, 9]\n",
    "    ]\n",
    ")\n",
    "stat_comp = StatComputer(data)\n",
    "\n",
    "np.testing.assert_almost_equal(stat_comp.mean_cols(), [3.75 , 5.25, 6., 6.5, 4.25])\n",
    "np.testing.assert_almost_equal(stat_comp.std_rows(), [1.93907194, 3.40587727, 1.356466, 3.16227766])\n",
    "np.testing.assert_almost_equal(stat_comp.sum_full(), 103)\n",
    "np.testing.assert_almost_equal(stat_comp.variance(), 8.1275)\n"
   ]
  },
  {
   "cell_type": "markdown",
   "id": "d7381fde",
   "metadata": {
    "deletable": false,
    "editable": false,
    "nbgrader": {
     "cell_type": "markdown",
     "checksum": "c8a359f6aabe5e16d4a0543bbcabf8a5",
     "grade": false,
     "grade_id": "cell-d7b6bbf03fca2f5b",
     "locked": true,
     "schema_version": 3,
     "solution": false,
     "task": false
    }
   },
   "source": [
    "### Задание 9 (3 балла)\n",
    "\n",
    "Напишите функцию, которая вернет количество элементов в результирующей матрице, где значение кумулятивной суммы по строке (после матричного умножения) больше задаваемого порога `threshold`."
   ]
  },
  {
   "cell_type": "code",
   "execution_count": 185,
   "id": "95ffb110",
   "metadata": {
    "deletable": false,
    "nbgrader": {
     "cell_type": "code",
     "checksum": "63b49fd47103a4580ffc380b8bc3071a",
     "grade": false,
     "grade_id": "cell-4941db9c0f636e2b",
     "locked": false,
     "schema_version": 3,
     "solution": true,
     "task": false
    }
   },
   "outputs": [],
   "source": [
    "def high_median_n_cols_after_matrix_multiplication(mul1: np.array, mul2: np.array, threshold: float) -> int:\n",
    "    result = np.dot(mul1, mul2)\n",
    "    cum_sum = np.cumsum(result, axis=1)\n",
    "    return np.sum(cum_sum > threshold)"
   ]
  },
  {
   "cell_type": "code",
   "execution_count": 186,
   "id": "3c47740f",
   "metadata": {
    "deletable": false,
    "editable": false,
    "nbgrader": {
     "cell_type": "code",
     "checksum": "f98f30761e1bbdd903b4789dfd52c35b",
     "grade": true,
     "grade_id": "cell-1b72bf4632ef61bc",
     "locked": true,
     "points": 3,
     "schema_version": 3,
     "solution": false,
     "task": false
    }
   },
   "outputs": [],
   "source": [
    "# Test 1\n",
    "x1 = np.array(\n",
    "    [\n",
    "        [5, 6, 4],\n",
    "        [0, 5, 0]\n",
    "    ]\n",
    ")\n",
    "x2 = np.array(\n",
    "    [\n",
    "        [6, 2],\n",
    "        [5, 3],\n",
    "        [1, 7]\n",
    "    ]\n",
    ")\n",
    "result = high_median_n_cols_after_matrix_multiplication(x1, x2, threshold=30)\n",
    "\n",
    "np.testing.assert_equal(result, 3)\n",
    "\n",
    "# Test 2\n",
    "x1 = np.array([[11,  3],\n",
    "               [ 7, 13],\n",
    "               [ 8,  8],\n",
    "               [ 3,  2],\n",
    "               [11,  5]])\n",
    "x2 = np.array([[12,  5,  3,  3],\n",
    "               [13,  1,  0,  9]])\n",
    "result = high_median_n_cols_after_matrix_multiplication(x1, x2, threshold=40)\n",
    "\n",
    "np.testing.assert_equal(result, 20)\n"
   ]
  }
 ],
 "metadata": {
  "kernelspec": {
   "display_name": ".venv",
   "language": "python",
   "name": "python3"
  },
  "language_info": {
   "codemirror_mode": {
    "name": "ipython",
    "version": 3
   },
   "file_extension": ".py",
   "mimetype": "text/x-python",
   "name": "python",
   "nbconvert_exporter": "python",
   "pygments_lexer": "ipython3",
   "version": "3.10.11"
  }
 },
 "nbformat": 4,
 "nbformat_minor": 5
}
